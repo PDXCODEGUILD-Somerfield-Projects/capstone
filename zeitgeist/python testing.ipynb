{
 "cells": [
  {
   "cell_type": "code",
   "execution_count": 5,
   "metadata": {
    "collapsed": true
   },
   "outputs": [
    {
     "name": "stdout",
     "output_type": "stream",
     "text": [
      "2017-04-26 17:43:16\n"
     ]
    }
   ],
   "source": [
    "from datetime import datetime\n",
    "import re\n",
    "def format_datetime(datetime_str):\n",
    "    re.sub(r'\\s\\+0000', '', datetime_str)\n",
    "    formatted_post_time = datetime.strptime(datetime_str, '%a %b %d %H:%M:%S +0000 %Y')\n",
    "    # 'Wed Apr 26 17:43:16 +0000 2017'\n",
    "    return formatted_post_time\n",
    "my_datetime = format_datetime('Wed Apr 26 17:43:16 +0000 2017')\n",
    "print(my_datetime)"
   ]
  },
  {
   "cell_type": "code",
   "execution_count": null,
   "metadata": {},
   "outputs": [],
   "source": [
    ""
   ]
  }
 ],
 "metadata": {
  "kernelspec": {
   "display_name": "Python 2",
   "language": "python",
   "name": "python2"
  },
  "language_info": {
   "codemirror_mode": {
    "name": "ipython",
    "version": 2.0
   },
   "file_extension": ".py",
   "mimetype": "text/x-python",
   "name": "python",
   "nbconvert_exporter": "python",
   "pygments_lexer": "ipython2",
   "version": "2.7.6"
  }
 },
 "nbformat": 4,
 "nbformat_minor": 0
}